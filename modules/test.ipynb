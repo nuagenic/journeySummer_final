{
 "cells": [
  {
   "cell_type": "code",
   "execution_count": null,
   "metadata": {},
   "outputs": [],
   "source": [
    "# authentification\n",
    "SPOTIFY_CLIENT_ID=\"0be6da6b7294432d9545984f45c51b95\"\n",
    "SPOTIFY_CLIENT_SECRET=\"0b6b0ca6d4814e3499623359cd5df5b3\"\n",
    "SPOTIFY_REDIRECT_URI=\"http://localhost:8888/callback\"\n",
    "\n",
    "# logging in\n",
    "import spotipy\n",
    "from spotipy.oauth2 import SpotifyClientCredentials\n",
    "client_credentials_manager = SpotifyClientCredentials(client_id = SPOTIFY_CLIENT_ID, client_secret = SPOTIFY_CLIENT_SECRET)\n",
    "sp = spotipy.Spotify(client_credentials_manager = client_credentials_manager)\n",
    "playlists = sp.playlist('37i9dQZEVXbNxXF4SkHj9F')['tracks']['items']\n",
    "\n",
    "import random\n",
    "track = random.choice(playlists)['track']\n"
   ]
  },
  {
   "cell_type": "code",
   "execution_count": null,
   "metadata": {},
   "outputs": [],
   "source": [
    "# track info\n",
    "import os, json\n",
    "artist_name = track['artists'][0]['name']\n",
    "track_popularity = track['popularity']\n",
    "track_name = track['name']\n",
    "track_cover_image = track['album']['images'][0]\n",
    "track_duration_ms = track['duration_ms']\n",
    "\n",
    "# data preprocessing\n",
    "\n",
    "\n",
    "track_info = {'artist': {'artist_name': artist_name},\n",
    "            'track': {'track_popularity': track_popularity, \n",
    "                        'track_name': track_name, \n",
    "                        'track_cover_image': track_cover_image, \n",
    "                        'track_duration': track_duration_ms}\n",
    "}\n",
    "\n",
    "with open(os.path.join(os.getcwd(), 'assets/spotify_result.json'), 'w') as f:\n",
    "    json.dump(track_info, f)\n",
    "\n",
    "\n",
    "# 데이터 feat 있으면 그 앞에 있는 괄호부터 싹 잘라주기\n",
    "track_name\n",
    "# 차트 타이틀만 뽑아오기"
   ]
  }
 ],
 "metadata": {
  "language_info": {
   "name": "python"
  },
  "orig_nbformat": 4
 },
 "nbformat": 4,
 "nbformat_minor": 2
}
